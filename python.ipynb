{
 "cells": [
  {
   "cell_type": "markdown",
   "metadata": {},
   "source": [
    "# <center>Just Enough Python</center>"
   ]
  },
  {
   "cell_type": "markdown",
   "metadata": {},
   "source": [
    "## 0. Computer Programming Concepts"
   ]
  },
  {
   "cell_type": "markdown",
   "metadata": {},
   "source": [
    "### Server v.s. PC\n",
    "* CPU\n",
    "* Storage\n",
    "  - Memory\n",
    "  - Disk\n",
    "* Network\n",
    "\n",
    "![server-vs-pc](./pics/server-vs-pc.png)"
   ]
  },
  {
   "cell_type": "code",
   "execution_count": null,
   "metadata": {},
   "outputs": [],
   "source": [
    "Luxic 系统的了解"
   ]
  },
  {
   "cell_type": "markdown",
   "metadata": {},
   "source": [
    "### Program\n",
    " * Just a pure text **file** of **logic** which computes **output** from **input**\n",
    " * **High level** language  面向人的，面向对象的\n",
    " * **Low level** language   面向机器的  从high 到low 就是编译\n",
    " * **Compile & Compiler**   编译器\n",
    " * **Interpret & Interpreter**  解释性的语言\n",
    " * Why **CPU architecture** matters\n",
    " * **Portable**  可移植"
   ]
  },
  {
   "cell_type": "markdown",
   "metadata": {},
   "source": [
    "#### Human Language\n",
    "we will go to the park tomorrow if the weather is good, otherwise we will stay at home. \n",
    "\n",
    "#### Python program\n",
    "```python\n",
    "weather = 'good'\n",
    "if( weather is good):\n",
    "    print('go to park')\n",
    "else:\n",
    "    print('stay at home')\n",
    "```"
   ]
  },
  {
   "cell_type": "code",
   "execution_count": 1,
   "metadata": {},
   "outputs": [
    {
     "name": "stdout",
     "output_type": "stream",
     "text": [
      "go to park\n"
     ]
    }
   ],
   "source": [
    "intput=(\"Please input the weather condition:\")\n",
    "weather = 'good'\n",
    "if( weather == 'good'):\n",
    "    print('go to park')\n",
    "else:\n",
    "    print('stay at home')"
   ]
  },
  {
   "cell_type": "markdown",
   "metadata": {},
   "source": [
    "![high-vs-low](./pics/high-vs-low.png)"
   ]
  },
  {
   "cell_type": "markdown",
   "metadata": {},
   "source": [
    "#### What about Python?\n",
    "* High level language\n",
    "* Both compile and interpret"
   ]
  },
  {
   "cell_type": "markdown",
   "metadata": {},
   "source": [
    "![python-compile-interpret](./pics/python-compile-interpret.jpg)"
   ]
  },
  {
   "cell_type": "markdown",
   "metadata": {},
   "source": [
    "## 1. Pythyon Basics"
   ]
  },
  {
   "cell_type": "code",
   "execution_count": 2,
   "metadata": {},
   "outputs": [],
   "source": [
    "import sys"
   ]
  },
  {
   "cell_type": "code",
   "execution_count": 4,
   "metadata": {},
   "outputs": [
    {
     "name": "stdout",
     "output_type": "stream",
     "text": [
      "Hello World!\n",
      "Hello World!\n"
     ]
    }
   ],
   "source": [
    "# hello world\n",
    "print('Hello World!')\n",
    "print('Hello World!')"
   ]
  },
  {
   "cell_type": "code",
   "execution_count": 6,
   "metadata": {},
   "outputs": [
    {
     "name": "stdout",
     "output_type": "stream",
     "text": [
      "Hello World!\n"
     ]
    }
   ],
   "source": [
    "# variable, value assignment\n",
    "# integer, float, string\n",
    "message = 'Hello World!'\n",
    "print(message)"
   ]
  },
  {
   "cell_type": "code",
   "execution_count": 5,
   "metadata": {},
   "outputs": [
    {
     "name": "stdout",
     "output_type": "stream",
     "text": [
      "Hello Alex GREEN \n",
      "Welcome to Python\n"
     ]
    }
   ],
   "source": [
    "# string manipulation\n",
    "first_name = \"Alex\"\n",
    "last_name = 'Green'\n",
    "last_name = last_name.upper()\n",
    "print(\"Hello {} {} \\nWelcome to Python\".format(first_name, last_name))"
   ]
  },
  {
   "cell_type": "code",
   "execution_count": 8,
   "metadata": {},
   "outputs": [
    {
     "name": "stdout",
     "output_type": "stream",
     "text": [
      "'have both leading and ending space   '\n",
      "'   have both leading and ending space'\n",
      "'have both leading and ending space'\n"
     ]
    }
   ],
   "source": [
    "# string manipulation\n",
    "# Python standard library\n",
    "text = '   have both leading and ending space   '\n",
    "print(\"'{}'\\n'{}'\\n'{}'\".format(text.lstrip(), text.rstrip(), text.strip()))\n",
    "# lstrip()左边空格全部去掉 rstrip()左边空格全部去掉   strip() 去掉空格"
   ]
  },
  {
   "cell_type": "code",
   "execution_count": 16,
   "metadata": {},
   "outputs": [
    {
     "data": {
      "text/plain": [
       "6"
      ]
     },
     "execution_count": 16,
     "metadata": {},
     "output_type": "execute_result"
    }
   ],
   "source": [
    "4 + 2"
   ]
  },
  {
   "cell_type": "code",
   "execution_count": 17,
   "metadata": {},
   "outputs": [
    {
     "data": {
      "text/plain": [
       "8"
      ]
     },
     "execution_count": 17,
     "metadata": {},
     "output_type": "execute_result"
    }
   ],
   "source": [
    "4 * 2"
   ]
  },
  {
   "cell_type": "code",
   "execution_count": 18,
   "metadata": {},
   "outputs": [
    {
     "data": {
      "text/plain": [
       "2.0"
      ]
     },
     "execution_count": 18,
     "metadata": {},
     "output_type": "execute_result"
    }
   ],
   "source": [
    "4 / 2"
   ]
  },
  {
   "cell_type": "code",
   "execution_count": 20,
   "metadata": {},
   "outputs": [
    {
     "data": {
      "text/plain": [
       "16"
      ]
     },
     "execution_count": 20,
     "metadata": {},
     "output_type": "execute_result"
    }
   ],
   "source": [
    "2 ** 4  # 指数"
   ]
  },
  {
   "cell_type": "code",
   "execution_count": 45,
   "metadata": {},
   "outputs": [
    {
     "data": {
      "text/plain": [
       "0.30000000000000004"
      ]
     },
     "execution_count": 45,
     "metadata": {},
     "output_type": "execute_result"
    }
   ],
   "source": [
    "a = 0.2\n",
    "b = 0.1\n",
    "a + b  \n",
    "# 因为转换成 010101 格式的时候会有所不同，精度有所不同\n",
    "#Because the conversion to 010101 format will be different,\n",
    "#the accuracy will be different"
   ]
  },
  {
   "cell_type": "markdown",
   "metadata": {},
   "source": [
    "## 2. List"
   ]
  },
  {
   "cell_type": "code",
   "execution_count": 12,
   "metadata": {},
   "outputs": [
    {
     "name": "stdout",
     "output_type": "stream",
     "text": [
      "['apple', 'banana', 'cherry']\n",
      "apple\n",
      "banana\n",
      "cherry\n"
     ]
    }
   ],
   "source": [
    "fruites = ['apple', 'banana', 'cherry']\n",
    "print(fruites)\n",
    "for i in fruites:\n",
    "    print(i)"
   ]
  },
  {
   "cell_type": "code",
   "execution_count": 10,
   "metadata": {},
   "outputs": [
    {
     "name": "stdout",
     "output_type": "stream",
     "text": [
      "apple\n"
     ]
    }
   ],
   "source": [
    "print(fruites[0])"
   ]
  },
  {
   "cell_type": "code",
   "execution_count": 16,
   "metadata": {},
   "outputs": [
    {
     "name": "stdout",
     "output_type": "stream",
     "text": [
      "['cherry', 'banana', 'apple', 'elderberry', 'dragon fruite']\n"
     ]
    }
   ],
   "source": [
    "#append 添加\n",
    "fruites.append('elderberry')\n",
    "fruites.append('dragon fruite')\n",
    "print(fruites)"
   ]
  },
  {
   "cell_type": "code",
   "execution_count": 17,
   "metadata": {},
   "outputs": [
    {
     "data": {
      "text/plain": [
       "'dragon fruite'"
      ]
     },
     "execution_count": 17,
     "metadata": {},
     "output_type": "execute_result"
    }
   ],
   "source": [
    "# = 是赋值\n",
    "popped_fruite = fruites.pop()\n",
    "popped_fruite"
   ]
  },
  {
   "cell_type": "code",
   "execution_count": 18,
   "metadata": {},
   "outputs": [
    {
     "name": "stdout",
     "output_type": "stream",
     "text": [
      "['cherry', 'banana', 'apple', 'elderberry']\n"
     ]
    }
   ],
   "source": [
    "print(fruites)"
   ]
  },
  {
   "cell_type": "code",
   "execution_count": 19,
   "metadata": {},
   "outputs": [
    {
     "name": "stdout",
     "output_type": "stream",
     "text": [
      "['grape', 'cherry', 'banana', 'apple', 'elderberry']\n"
     ]
    }
   ],
   "source": [
    "# insert 插入\n",
    "fruites.insert(0, 'grape')\n",
    "print(fruites)"
   ]
  },
  {
   "cell_type": "code",
   "execution_count": 20,
   "metadata": {},
   "outputs": [
    {
     "data": {
      "text/plain": [
       "['apple', 'banana', 'cherry', 'elderberry', 'grape']"
      ]
     },
     "execution_count": 20,
     "metadata": {},
     "output_type": "execute_result"
    }
   ],
   "source": [
    "## Notice the difference between sorted(some_list) and some_list.sort()\n",
    "sorted(fruites)\n",
    "# sorted 不会对列表本身有影响"
   ]
  },
  {
   "cell_type": "code",
   "execution_count": 21,
   "metadata": {},
   "outputs": [
    {
     "name": "stdout",
     "output_type": "stream",
     "text": [
      "['grape', 'cherry', 'banana', 'apple', 'elderberry']\n"
     ]
    }
   ],
   "source": [
    "print(fruites)"
   ]
  },
  {
   "cell_type": "code",
   "execution_count": 22,
   "metadata": {},
   "outputs": [
    {
     "name": "stdout",
     "output_type": "stream",
     "text": [
      "['apple', 'banana', 'cherry', 'elderberry', 'grape']\n"
     ]
    }
   ],
   "source": [
    "# some_list.sort() is in place sorting\n",
    "fruites.sort()\n",
    "# fruites.sort(reversed=True)\n",
    "print(fruites)\n",
    "#sorted 不改变原来list 的顺序"
   ]
  },
  {
   "cell_type": "code",
   "execution_count": 23,
   "metadata": {},
   "outputs": [
    {
     "name": "stdout",
     "output_type": "stream",
     "text": [
      "['grape', 'elderberry', 'cherry', 'banana', 'apple']\n"
     ]
    }
   ],
   "source": [
    "fruites.reverse() #列表翻转\n",
    "print(fruites)"
   ]
  },
  {
   "cell_type": "code",
   "execution_count": 24,
   "metadata": {},
   "outputs": [
    {
     "data": {
      "text/plain": [
       "5"
      ]
     },
     "execution_count": 24,
     "metadata": {},
     "output_type": "execute_result"
    }
   ],
   "source": [
    "len(fruites)  #求长度"
   ]
  },
  {
   "cell_type": "code",
   "execution_count": 25,
   "metadata": {},
   "outputs": [
    {
     "data": {
      "text/plain": [
       "['grape', 'elderberry', 'cherry', 'banana', 'apple']"
      ]
     },
     "execution_count": 25,
     "metadata": {},
     "output_type": "execute_result"
    }
   ],
   "source": [
    "fruites"
   ]
  },
  {
   "cell_type": "code",
   "execution_count": 27,
   "metadata": {},
   "outputs": [
    {
     "name": "stdout",
     "output_type": "stream",
     "text": [
      "['cherry', 'banana']\n"
     ]
    }
   ],
   "source": [
    "sub_fruites = fruites[:1]\n",
    "#sub_fruites = fruites[0:1]\n",
    "#sub_fruites = fruites[0:3]  # 不包含最后一个 index  0  1  2 \n",
    "#sub_fruites = fruites[:-1]\n",
    "#sub_fruites = fruites[-3:-1]\n",
    "#sub_fruites = fruites[-1:3]\n",
    "#sub_fruites = fruites[:]   copy 一遍\n",
    "#sub_fruites = fruites[::]  翻转\n",
    "print(sub_fruites)"
   ]
  },
  {
   "cell_type": "code",
   "execution_count": 80,
   "metadata": {},
   "outputs": [
    {
     "data": {
      "text/plain": [
       "['elderberry', 'banana', 'apple', 'grape']"
      ]
     },
     "execution_count": 80,
     "metadata": {},
     "output_type": "execute_result"
    }
   ],
   "source": [
    "del fruites[1]  # 删除\n",
    "fruites"
   ]
  },
  {
   "cell_type": "markdown",
   "metadata": {},
   "source": [
    "## 3. Flow Control"
   ]
  },
  {
   "cell_type": "markdown",
   "metadata": {},
   "source": [
    "**Note**: below C/Java style for loop does **NOT** work in Python!!!\n",
    "```python\n",
    "for(i = 0; i < len(fruites); i++):\n",
    "    print(fruites[i])\n",
    "```"
   ]
  },
  {
   "cell_type": "code",
   "execution_count": 31,
   "metadata": {},
   "outputs": [],
   "source": [
    "fruites = ['grape', 'elderberry', 'cherry', 'banana', 'apple']"
   ]
  },
  {
   "cell_type": "code",
   "execution_count": 32,
   "metadata": {},
   "outputs": [
    {
     "name": "stdout",
     "output_type": "stream",
     "text": [
      "grape\n",
      "elderberry\n",
      "cherry\n",
      "banana\n",
      "apple\n"
     ]
    }
   ],
   "source": [
    "for fruite in fruites:\n",
    "    print(fruite)"
   ]
  },
  {
   "cell_type": "code",
   "execution_count": 33,
   "metadata": {},
   "outputs": [
    {
     "name": "stdout",
     "output_type": "stream",
     "text": [
      "grape\n",
      "elderberry\n",
      "cherry\n",
      "banana\n",
      "apple\n"
     ]
    }
   ],
   "source": [
    "i = 0;\n",
    "while i < len(fruites):\n",
    "    print(fruites[i])\n",
    "    i+=1"
   ]
  },
  {
   "cell_type": "code",
   "execution_count": 34,
   "metadata": {},
   "outputs": [
    {
     "name": "stdout",
     "output_type": "stream",
     "text": [
      "grape\n",
      "elderberry\n",
      "cherry\n",
      "banana\n",
      "apple\n"
     ]
    }
   ],
   "source": [
    "for i in range(len(fruites)):\n",
    "    if i < len(fruites):\n",
    "        print(fruites[i])"
   ]
  },
  {
   "cell_type": "code",
   "execution_count": 60,
   "metadata": {},
   "outputs": [
    {
     "name": "stdout",
     "output_type": "stream",
     "text": [
      "do not want elderberry. try next.. \n",
      "yes! I love cherry!\n",
      "do not want banana. try next.. \n",
      "do not want apple. try next.. \n",
      "do not want grape. try next.. \n"
     ]
    }
   ],
   "source": [
    "for fruite in fruites:\n",
    "    if(fruite == 'cherry'):\n",
    "        print('yes! I love cherry!')\n",
    "    else:\n",
    "        print('do not want {}. try next.. '.format(fruite))"
   ]
  },
  {
   "cell_type": "code",
   "execution_count": 61,
   "metadata": {},
   "outputs": [
    {
     "name": "stdout",
     "output_type": "stream",
     "text": [
      "do not want elderberry. try next.. \n",
      "yes! I love cherry!\n"
     ]
    }
   ],
   "source": [
    "for fruite in fruites:\n",
    "    if(fruite == 'cherry'):\n",
    "        print('yes! I love cherry!')\n",
    "        break\n",
    "    else:\n",
    "        print('do not want {}. try next.. '.format(fruite))"
   ]
  },
  {
   "cell_type": "code",
   "execution_count": 35,
   "metadata": {},
   "outputs": [
    {
     "name": "stdout",
     "output_type": "stream",
     "text": [
      "do not want grape. try next.. \n",
      "do not want elderberry. try next.. \n",
      "yes! I love cherry!\n"
     ]
    }
   ],
   "source": [
    "for fruite in fruites:\n",
    "    if(fruite == 'cherry'):\n",
    "        print('yes! I love cherry!')\n",
    "        break\n",
    "    else:\n",
    "        print(f'do not want {fruite}. try next.. ') # 跟上面相比较 两种打印输出\n",
    "        "
   ]
  },
  {
   "cell_type": "code",
   "execution_count": 21,
   "metadata": {},
   "outputs": [
    {
     "name": "stdout",
     "output_type": "stream",
     "text": [
      "hello alex\n"
     ]
    }
   ],
   "source": [
    "name = 'alex'\n",
    "print(f'hello {name}')\n"
   ]
  },
  {
   "cell_type": "code",
   "execution_count": null,
   "metadata": {},
   "outputs": [],
   "source": [
    "stack overflow  网站"
   ]
  },
  {
   "cell_type": "markdown",
   "metadata": {},
   "source": [
    "## 4. List Comprehension"
   ]
  },
  {
   "cell_type": "code",
   "execution_count": 63,
   "metadata": {},
   "outputs": [
    {
     "name": "stdout",
     "output_type": "stream",
     "text": [
      "[0, 2, 4, 6, 8, 10, 12, 14, 16, 18]\n"
     ]
    }
   ],
   "source": [
    "my_list = []\n",
    "for i in range(20):\n",
    "    if(i % 2 == 0):\n",
    "        my_list.append(i)\n",
    "print(my_list)"
   ]
  },
  {
   "cell_type": "code",
   "execution_count": 64,
   "metadata": {},
   "outputs": [
    {
     "name": "stdout",
     "output_type": "stream",
     "text": [
      "[0, 2, 4, 6, 8, 10, 12, 14, 16, 18]\n"
     ]
    }
   ],
   "source": [
    "my_list = [i for i in range(20) if i%2 == 0]\n",
    "print(my_list)"
   ]
  },
  {
   "cell_type": "code",
   "execution_count": 67,
   "metadata": {},
   "outputs": [
    {
     "name": "stdout",
     "output_type": "stream",
     "text": [
      "[1, 3, 5, 7, 9]\n"
     ]
    }
   ],
   "source": [
    "a_list = [1,2,3,4,5,6,7,8,9,10]\n",
    "b_list = [2,4,6,8,10]\n",
    "c_list = [x for x in a_list if x not in b_list]\n",
    "print(c_list)"
   ]
  },
  {
   "cell_type": "code",
   "execution_count": null,
   "metadata": {},
   "outputs": [],
   "source": [
    "def is_prime(n):\n",
    "    if n ==1:\n",
    "        return 1\n",
    "    if n ==2:\n",
    "        return 2\n",
    "    \n",
    "    "
   ]
  },
  {
   "cell_type": "code",
   "execution_count": 36,
   "metadata": {
    "scrolled": false
   },
   "outputs": [
    {
     "name": "stdout",
     "output_type": "stream",
     "text": [
      "The Zen of Python, by Tim Peters\n",
      "\n",
      "Beautiful is better than ugly.\n",
      "Explicit is better than implicit.\n",
      "Simple is better than complex.\n",
      "Complex is better than complicated.\n",
      "Flat is better than nested.\n",
      "Sparse is better than dense.\n",
      "Readability counts.\n",
      "Special cases aren't special enough to break the rules.\n",
      "Although practicality beats purity.\n",
      "Errors should never pass silently.\n",
      "Unless explicitly silenced.\n",
      "In the face of ambiguity, refuse the temptation to guess.\n",
      "There should be one-- and preferably only one --obvious way to do it.\n",
      "Although that way may not be obvious at first unless you're Dutch.\n",
      "Now is better than never.\n",
      "Although never is often better than *right* now.\n",
      "If the implementation is hard to explain, it's a bad idea.\n",
      "If the implementation is easy to explain, it may be a good idea.\n",
      "Namespaces are one honking great idea -- let's do more of those!\n"
     ]
    }
   ],
   "source": [
    "import this "
   ]
  },
  {
   "cell_type": "markdown",
   "metadata": {},
   "source": [
    "## 5. Dictionary"
   ]
  },
  {
   "cell_type": "code",
   "execution_count": null,
   "metadata": {},
   "outputs": [],
   "source": [
    "#字典 也被成为 哈希表"
   ]
  },
  {
   "cell_type": "code",
   "execution_count": 37,
   "metadata": {},
   "outputs": [
    {
     "data": {
      "text/plain": [
       "2020"
      ]
     },
     "execution_count": 37,
     "metadata": {},
     "output_type": "execute_result"
    }
   ],
   "source": [
    "# key:value\n",
    "zipcode = {'sydney':2000, 'mascot':2020, 'hornsby':2077} \n",
    "zipcode['mascot']"
   ]
  },
  {
   "cell_type": "code",
   "execution_count": 39,
   "metadata": {},
   "outputs": [
    {
     "name": "stdout",
     "output_type": "stream",
     "text": [
      "zipcode of sydney is 2000\n",
      "zipcode of mascot is 2020\n",
      "zipcode of hornsby is 2077\n"
     ]
    }
   ],
   "source": [
    "#字典的遍历\n",
    "for suburb, zip in zipcode.items():\n",
    "    print(\"zipcode of {} is {}\".format(suburb, zip))\n",
    "    #print(f'zipcode of {suburb} is {zip}')"
   ]
  },
  {
   "cell_type": "code",
   "execution_count": 31,
   "metadata": {},
   "outputs": [
    {
     "data": {
      "text/plain": [
       "{'sydney': 2000, 'mascot': 2020, 'hornsby': 2077, 'north sydney': 2055}"
      ]
     },
     "execution_count": 31,
     "metadata": {},
     "output_type": "execute_result"
    }
   ],
   "source": [
    "zipcode['north sydney'] = 2055\n",
    "zipcode"
   ]
  },
  {
   "cell_type": "code",
   "execution_count": 32,
   "metadata": {},
   "outputs": [
    {
     "data": {
      "text/plain": [
       "['sydney', 'mascot', 'hornsby', 'north sydney']"
      ]
     },
     "execution_count": 32,
     "metadata": {},
     "output_type": "execute_result"
    }
   ],
   "source": [
    "[key for key in zipcode.keys()]  # 把所有的key 取出来"
   ]
  },
  {
   "cell_type": "code",
   "execution_count": 40,
   "metadata": {},
   "outputs": [
    {
     "name": "stdout",
     "output_type": "stream",
     "text": [
      "sydney\n",
      "mascot\n",
      "hornsby\n"
     ]
    }
   ],
   "source": [
    "for key in zipcode.keys():\n",
    "    print(key)"
   ]
  },
  {
   "cell_type": "code",
   "execution_count": 33,
   "metadata": {},
   "outputs": [
    {
     "data": {
      "text/plain": [
       "[2000, 2020, 2077, 2055]"
      ]
     },
     "execution_count": 33,
     "metadata": {},
     "output_type": "execute_result"
    }
   ],
   "source": [
    "[value for value in zipcode.values()]  # 把所有的value 都找出来"
   ]
  },
  {
   "cell_type": "code",
   "execution_count": 41,
   "metadata": {},
   "outputs": [
    {
     "name": "stdout",
     "output_type": "stream",
     "text": [
      "2000\n",
      "2020\n",
      "2077\n"
     ]
    }
   ],
   "source": [
    "for value in zipcode.values():\n",
    "    print(value)"
   ]
  },
  {
   "cell_type": "code",
   "execution_count": 42,
   "metadata": {},
   "outputs": [
    {
     "name": "stdout",
     "output_type": "stream",
     "text": [
      "sydney 2000\n",
      "mascot 2020\n",
      "hornsby 2077\n"
     ]
    }
   ],
   "source": [
    "for key,value in zipcode.items():\n",
    "    print(key,value)"
   ]
  },
  {
   "cell_type": "code",
   "execution_count": 34,
   "metadata": {},
   "outputs": [
    {
     "name": "stdout",
     "output_type": "stream",
     "text": [
      "hornsby : 2077\n",
      "mascot : 2020\n",
      "north sydney : 2055\n",
      "sydney : 2000\n"
     ]
    }
   ],
   "source": [
    "for key in sorted(zipcode.keys()):\n",
    "    print(\"{} : {}\".format(key, zipcode[key]))"
   ]
  },
  {
   "cell_type": "markdown",
   "metadata": {},
   "source": [
    "## Function\n",
    "\n",
    "0, 1, 1, 2, 3, 5, 8, 13, 21, 34, 55, 89, 144, ......"
   ]
  },
  {
   "cell_type": "code",
   "execution_count": 43,
   "metadata": {},
   "outputs": [],
   "source": [
    "def fib_list(n):\n",
    "    fib = []\n",
    "    fib.append(0)\n",
    "    fib.append(1)\n",
    "    \n",
    "    if n < 0:\n",
    "        return 'NaN'\n",
    "    elif n <= 1:\n",
    "        return fib[n]\n",
    "    else:\n",
    "        for i in range(2, n+1):\n",
    "            fib.append(fib[i-1] + fib[i-2])\n",
    "        return fib[n]"
   ]
  },
  {
   "cell_type": "code",
   "execution_count": 49,
   "metadata": {},
   "outputs": [
    {
     "name": "stdout",
     "output_type": "stream",
     "text": [
      "55\n"
     ]
    }
   ],
   "source": [
    "print(fib_list(10))"
   ]
  },
  {
   "cell_type": "code",
   "execution_count": 87,
   "metadata": {},
   "outputs": [],
   "source": [
    "#递归\n",
    "def fib_recursive(n):\n",
    "    if n < 0:\n",
    "        print('error param')\n",
    "        return 'NaN'\n",
    "    elif n == 0:\n",
    "        return 0\n",
    "    elif n <= 2:\n",
    "        return 1\n",
    "    else:\n",
    "        return fib_recursive(n-1) + fib_recursive(n-2)"
   ]
  },
  {
   "cell_type": "code",
   "execution_count": 88,
   "metadata": {
    "scrolled": true
   },
   "outputs": [
    {
     "name": "stdout",
     "output_type": "stream",
     "text": [
      "55\n"
     ]
    }
   ],
   "source": [
    "print(fib_recursive(10))"
   ]
  },
  {
   "cell_type": "code",
   "execution_count": 44,
   "metadata": {},
   "outputs": [],
   "source": [
    "def fib(f, n):\n",
    "    return f(n)"
   ]
  },
  {
   "cell_type": "code",
   "execution_count": 93,
   "metadata": {},
   "outputs": [
    {
     "name": "stdout",
     "output_type": "stream",
     "text": [
      "55\n"
     ]
    }
   ],
   "source": [
    "print(fib(fib_list, 10))"
   ]
  },
  {
   "cell_type": "markdown",
   "metadata": {},
   "source": [
    "## Object Oriented Programming (OOP)   类"
   ]
  },
  {
   "cell_type": "code",
   "execution_count": 44,
   "metadata": {},
   "outputs": [],
   "source": [
    "class Dog():\n",
    "    \n",
    "    def __init__(self, name, age):   # __init__ 构造函数，初始化数据\n",
    "        self.name = name\n",
    "        self.age = age\n",
    "    \n",
    "    def sit(self):\n",
    "        print(self.name.title() + \" is now sitting.\")  # title() 一个简单的字符串的函数\n",
    "        \n",
    "    def jump(self):\n",
    "        print(self.name.title() + \" is now jumping.\")\n",
    "    \n",
    "    def roll_over(self):\n",
    "        print(self.name.title() + \" rolled over!\")\n",
    "        \n",
    "    def time_machine(self):\n",
    "        if self.age >= 1:\n",
    "            self.age = self.age - 1\n",
    "    \n",
    "    def play(self,n1,n2):\n",
    "        if (n1 + n2 > 10):\n",
    "            print(\"I can not do it.\")\n",
    "        else:\n",
    "            n = n1 + n2\n",
    "            i = 0\n",
    "            while (i < n):\n",
    "                print(\"bark\")\n",
    "                i+=1\n",
    "    \n",
    "    def get_name(self):\n",
    "        return self.name\n",
    "    \n",
    "    def get_age(self):\n",
    "        return self.age"
   ]
  },
  {
   "cell_type": "code",
   "execution_count": 48,
   "metadata": {},
   "outputs": [
    {
     "name": "stdout",
     "output_type": "stream",
     "text": [
      "I can not do it.\n"
     ]
    }
   ],
   "source": [
    "my_dog = Dog('bingo', 3)  # 必须要进行初始化\n",
    "my_dog.play(4,9)"
   ]
  },
  {
   "cell_type": "code",
   "execution_count": 47,
   "metadata": {},
   "outputs": [
    {
     "name": "stdout",
     "output_type": "stream",
     "text": [
      "bark\n",
      "bark\n",
      "bark\n",
      "bark\n"
     ]
    }
   ],
   "source": [
    "my_dog = Dog('bingo', 3)  # 必须要进行初始化\n",
    "my_dog.play(1,3)"
   ]
  },
  {
   "cell_type": "code",
   "execution_count": 37,
   "metadata": {},
   "outputs": [
    {
     "name": "stdout",
     "output_type": "stream",
     "text": [
      "Bingo is now sitting.\n"
     ]
    }
   ],
   "source": [
    "my_dog = Dog('bingo', 3)\n",
    "my_dog.sit()"
   ]
  },
  {
   "cell_type": "code",
   "execution_count": 127,
   "metadata": {},
   "outputs": [
    {
     "name": "stdout",
     "output_type": "stream",
     "text": [
      "Bingo rolled over!\n"
     ]
    }
   ],
   "source": [
    "my_dog.roll_over()"
   ]
  },
  {
   "cell_type": "code",
   "execution_count": 128,
   "metadata": {},
   "outputs": [
    {
     "name": "stdout",
     "output_type": "stream",
     "text": [
      "Wang Wang is now sitting.\n"
     ]
    }
   ],
   "source": [
    "your_dog = Dog('wang wang', 4)  #  定义一个新的 your_dog\n",
    "your_dog.sit()"
   ]
  },
  {
   "cell_type": "code",
   "execution_count": 129,
   "metadata": {},
   "outputs": [
    {
     "name": "stdout",
     "output_type": "stream",
     "text": [
      "4\n"
     ]
    }
   ],
   "source": [
    "print(your_dog.get_age())"
   ]
  },
  {
   "cell_type": "code",
   "execution_count": 130,
   "metadata": {},
   "outputs": [
    {
     "name": "stdout",
     "output_type": "stream",
     "text": [
      "3\n"
     ]
    }
   ],
   "source": [
    "your_dog.time_machine()\n",
    "print(your_dog.get_age())"
   ]
  },
  {
   "cell_type": "markdown",
   "metadata": {},
   "source": [
    "## Regular Expression"
   ]
  },
  {
   "cell_type": "markdown",
   "metadata": {},
   "source": [
    "A regular expression is simply a sequence of characters that define a pattern.\n",
    "\n",
    "* validate an email\n",
    "* extract data\n",
    "* data wrangling\n",
    "* web scraping\n",
    "* simple parsing"
   ]
  },
  {
   "cell_type": "markdown",
   "metadata": {},
   "source": [
    "### re.match(pattern, string, flags=0)\n",
    "\n",
    "If zero or more characters at the beginning of string match the regular expression pattern, return a corresponding match object. Return None if the string does not match the pattern;\n",
    "如果字符串开头的零个或多个字符与正则表达式模式匹配，则返回相应的匹配对象。 如果字符串与模式不匹配，则返回None；否则返回false。\n",
    "\n",
    "flags=re.IGNORECASE|re.MULTILINE|re.UNICODE"
   ]
  },
  {
   "cell_type": "code",
   "execution_count": 49,
   "metadata": {},
   "outputs": [
    {
     "name": "stdout",
     "output_type": "stream",
     "text": [
      "Regex\n"
     ]
    }
   ],
   "source": [
    "#  re 包  封装了所有的正则表达式的函数\n",
    "import re\n",
    "\n",
    "string = \"Regex is awesome!\"\n",
    "pattern1 = re.compile(\"regex\", flags=re.IGNORECASE)  # IGNORECASE 忽略大小写\n",
    "result1 = pattern1.match(string)\n",
    "if(result1):\n",
    "    print(result1.group())"
   ]
  },
  {
   "cell_type": "markdown",
   "metadata": {},
   "source": [
    "### re.search(pattern, string, flags=0)\n",
    "Scan through string looking for the first location where the regular expression pattern produces a match, and return a corresponding match object. Return None if no position in the string matches the pattern\n",
    "\n",
    "扫描字符串以查找正则表达式模式产生匹配项的第一个位置，然后返回相应的匹配对象。 如果字符串中没有位置与模式匹配，则返回None"
   ]
  },
  {
   "cell_type": "code",
   "execution_count": 70,
   "metadata": {},
   "outputs": [
    {
     "name": "stdout",
     "output_type": "stream",
     "text": [
      "is\n"
     ]
    }
   ],
   "source": [
    "pattern2 = re.compile(\"is\")\n",
    "result2 = pattern2.search(string)\n",
    "if(result2):\n",
    "    print(result2.group())"
   ]
  },
  {
   "cell_type": "code",
   "execution_count": 53,
   "metadata": {},
   "outputs": [
    {
     "name": "stdout",
     "output_type": "stream",
     "text": [
      "alice@google.com\n",
      "bob@abc.com\n"
     ]
    }
   ],
   "source": [
    "str = 'purple alice@google.com, blah monkey bob@abc.com blah dishwasher'\n",
    "emails = re.findall('[\\w\\.-]+@[\\w\\.-]+', str)\n",
    "for email in emails:\n",
    "    print(email)"
   ]
  },
  {
   "cell_type": "markdown",
   "metadata": {},
   "source": [
    "### re.split(pattern, string, maxsplit=0, flags=0)\n",
    "Split string by the occurrences of pattern. If capturing parentheses are used in pattern, then the text of all groups in the pattern are also returned as part of the resulting list. If maxsplit is nonzero, at most maxsplit splits occur, and the remainder of the string is returned as the final element of the list.\n",
    "\n",
    "通过模式的出现来分割字符串。 如果在模式中使用了捕获括号，则模式中所有组的文本也将作为结果列表的一部分返回。 如果maxsplit不为零，则最多会发生maxsplit分割，并将字符串的其余部分作为列表的最后一个元素返回。"
   ]
  },
  {
   "cell_type": "code",
   "execution_count": 54,
   "metadata": {},
   "outputs": [
    {
     "data": {
      "text/plain": [
       "['machine', 'learning', 'data', 'engineer']"
      ]
     },
     "execution_count": 54,
     "metadata": {},
     "output_type": "execute_result"
    }
   ],
   "source": [
    "re.split('\\W+', 'machine, learning, data engineer')"
   ]
  },
  {
   "cell_type": "code",
   "execution_count": 55,
   "metadata": {},
   "outputs": [
    {
     "data": {
      "text/plain": [
       "['machine,', 'learning,', 'data', 'engineer']"
      ]
     },
     "execution_count": 55,
     "metadata": {},
     "output_type": "execute_result"
    }
   ],
   "source": [
    "re.split('\\s+', 'machine, learning, data engineer')  #\\s 空格  用空格来拆分"
   ]
  },
  {
   "cell_type": "code",
   "execution_count": 56,
   "metadata": {},
   "outputs": [
    {
     "data": {
      "text/plain": [
       "['machine,learning,data', 'engineer']"
      ]
     },
     "execution_count": 56,
     "metadata": {},
     "output_type": "execute_result"
    }
   ],
   "source": [
    "re.split('\\s+', 'machine,learning,data engineer')"
   ]
  },
  {
   "cell_type": "markdown",
   "metadata": {},
   "source": [
    "### re.findall(pattern, string, flags=0)\n",
    "Return all non-overlapping matches of pattern in string, as a list of strings. The string is scanned left-to-right, and matches are returned in the order found. If one or more groups are present in the pattern, return a list of groups; this will be a list of tuples if the pattern has more than one group. Empty matches are included in the result.\n",
    "\n",
    "返回字符串中模式的所有非重叠匹配项，作为字符串列表。 从左到右扫描该字符串，并以找到的顺序返回匹配项。 如果该模式中存在一个或多个组，则返回一个组列表；否则，返回一个列表。 如果模式包含多个组，则这将是一个元组列表。 空匹配项包含在结果中。"
   ]
  },
  {
   "cell_type": "code",
   "execution_count": 58,
   "metadata": {},
   "outputs": [
    {
     "name": "stdout",
     "output_type": "stream",
     "text": [
      "[('alice', 'google.com'), ('bob', 'abc.com')]\n"
     ]
    }
   ],
   "source": [
    "import re\n",
    "\n",
    "str = 'purple alice@google.com, blah monkey bob@abc.com blah dishwasher'\n",
    "\n",
    "tuples = re.findall('([\\w\\.-]+)@([\\w\\.-]+)', str)\n",
    "print(tuples)"
   ]
  },
  {
   "cell_type": "code",
   "execution_count": 59,
   "metadata": {},
   "outputs": [
    {
     "name": "stdout",
     "output_type": "stream",
     "text": [
      "alice, google.com\n",
      "bob, abc.com\n"
     ]
    }
   ],
   "source": [
    "for tuple in tuples:\n",
    "    print('{}, {}'.format(tuple[0], tuple[1]))"
   ]
  },
  {
   "cell_type": "code",
   "execution_count": null,
   "metadata": {},
   "outputs": [],
   "source": []
  }
 ],
 "metadata": {
  "kernelspec": {
   "display_name": "Python 3",
   "language": "python",
   "name": "python3"
  },
  "language_info": {
   "codemirror_mode": {
    "name": "ipython",
    "version": 3
   },
   "file_extension": ".py",
   "mimetype": "text/x-python",
   "name": "python",
   "nbconvert_exporter": "python",
   "pygments_lexer": "ipython3",
   "version": "3.7.3"
  }
 },
 "nbformat": 4,
 "nbformat_minor": 2
}
