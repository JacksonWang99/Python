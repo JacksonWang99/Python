{
 "cells": [
  {
   "cell_type": "markdown",
   "metadata": {},
   "source": [
    "# <center>Apache Spark</center>  火花"
   ]
  },
  {
   "cell_type": "code",
   "execution_count": 1,
   "metadata": {},
   "outputs": [],
   "source": [
    "from pyspark.sql import SparkSession  # 引入包  SparkSession 一些写好的函数\n",
    "import pyspark.sql.functions as F     # 一系列的函数"
   ]
  },
  {
   "cell_type": "markdown",
   "metadata": {},
   "source": [
    "## Create a spark session\n",
    "\n",
    "This is the entry point of spark operations"
   ]
  },
  {
   "cell_type": "code",
   "execution_count": 2,
   "metadata": {},
   "outputs": [],
   "source": [
    "spark = SparkSession.builder.appName(\"HelloSpark\").getOrCreate()"
   ]
  },
  {
   "cell_type": "markdown",
   "metadata": {},
   "source": [
    "## Create dataframe from Python array of tuples"
   ]
  },
  {
   "cell_type": "code",
   "execution_count": 3,
   "metadata": {},
   "outputs": [],
   "source": [
    "name = spark.createDataFrame(\n",
    "    [(0, \"Alex\"), (1, \"Bob\"), (2, \"Cherry\"), (3, \"Dan\"), (4, \"Ethan\"), (5, \"Flynn\")],\n",
    "    [\"id\", \"name\"])\n",
    "\n",
    "math = spark.createDataFrame(\n",
    "    [(0, 95), (1, 98), (2, 73), (3, 54), (4, 68), (5, 98)],\n",
    "    [\"id\", \"math\"])\n",
    "\n",
    "english = spark.createDataFrame(\n",
    "    [(0, 90), (1, 80), (2, 85), (3, 68), (4, 65), (5, 97)],\n",
    "    [\"id\", \"english\"])\n",
    "\n",
    "chinese = spark.createDataFrame(\n",
    "    [(0, 79), (1, 89), (2, 86), (3, 57), (4, 86), (5, 99)],\n",
    "    [\"id\", \"chinese\"])\n",
    "\n",
    "physics = spark.createDataFrame(\n",
    "    [(0, 86), (1, 95), (2, 88), (3, 96), (4, 68), (5, 96)],\n",
    "    [\"id\", \"physics\"])\n",
    "\n",
    "chemistry = spark.createDataFrame(\n",
    "    [(0, 67), (1, 71), (2, 85), (3, 68), (4, 95), (5, 95)],\n",
    "    [\"id\", \"chemistry\"])\n",
    "\n",
    "history = spark.createDataFrame(\n",
    "    [(0, 73), (1, 80), (2, 91), (3, 57), (4, 78), (5, 99)],\n",
    "    [\"id\", \"history\"])"
   ]
  },
  {
   "cell_type": "markdown",
   "metadata": {},
   "source": [
    "## Basic Spark operations"
   ]
  },
  {
   "cell_type": "code",
   "execution_count": 4,
   "metadata": {},
   "outputs": [
    {
     "name": "stdout",
     "output_type": "stream",
     "text": [
      "+---+------+\n",
      "| id|  name|\n",
      "+---+------+\n",
      "|  0|  Alex|\n",
      "|  1|   Bob|\n",
      "|  2|Cherry|\n",
      "|  3|   Dan|\n",
      "|  4| Ethan|\n",
      "|  5| Flynn|\n",
      "+---+------+\n",
      "\n"
     ]
    }
   ],
   "source": [
    "name.show()"
   ]
  },
  {
   "cell_type": "code",
   "execution_count": 5,
   "metadata": {},
   "outputs": [
    {
     "name": "stdout",
     "output_type": "stream",
     "text": [
      "+---+-------+\n",
      "| id|english|\n",
      "+---+-------+\n",
      "|  0|     90|\n",
      "|  1|     80|\n",
      "|  2|     85|\n",
      "|  3|     68|\n",
      "|  4|     65|\n",
      "|  5|     97|\n",
      "+---+-------+\n",
      "\n"
     ]
    }
   ],
   "source": [
    "english.show()"
   ]
  },
  {
   "cell_type": "code",
   "execution_count": 6,
   "metadata": {},
   "outputs": [
    {
     "name": "stdout",
     "output_type": "stream",
     "text": [
      "+---+----+\n",
      "| id|math|\n",
      "+---+----+\n",
      "|  0|  95|\n",
      "|  1|  98|\n",
      "|  2|  73|\n",
      "|  3|  54|\n",
      "|  4|  68|\n",
      "|  5|  98|\n",
      "+---+----+\n",
      "\n"
     ]
    }
   ],
   "source": [
    "math.show()"
   ]
  },
  {
   "cell_type": "code",
   "execution_count": 7,
   "metadata": {
    "scrolled": true
   },
   "outputs": [
    {
     "name": "stdout",
     "output_type": "stream",
     "text": [
      "+---+------+----+\n",
      "| id|  name|math|\n",
      "+---+------+----+\n",
      "|  0|  Alex|  95|\n",
      "|  5| Flynn|  98|\n",
      "|  1|   Bob|  98|\n",
      "|  3|   Dan|  54|\n",
      "|  2|Cherry|  73|\n",
      "|  4| Ethan|  68|\n",
      "+---+------+----+\n",
      "\n"
     ]
    }
   ],
   "source": [
    "result = name.join(math, 'id')\n",
    "result.show()"
   ]
  },
  {
   "cell_type": "code",
   "execution_count": 8,
   "metadata": {},
   "outputs": [],
   "source": [
    "for x in [english, chinese, physics, chemistry, history]:\n",
    "    result = result.join(x, 'id')"
   ]
  },
  {
   "cell_type": "code",
   "execution_count": 9,
   "metadata": {},
   "outputs": [
    {
     "name": "stdout",
     "output_type": "stream",
     "text": [
      "+---+------+----+-------+-------+-------+---------+-------+\n",
      "| id|  name|math|english|chinese|physics|chemistry|history|\n",
      "+---+------+----+-------+-------+-------+---------+-------+\n",
      "|  0|  Alex|  95|     90|     79|     86|       67|     73|\n",
      "|  5| Flynn|  98|     97|     99|     96|       95|     99|\n",
      "|  1|   Bob|  98|     80|     89|     95|       71|     80|\n",
      "|  3|   Dan|  54|     68|     57|     96|       68|     57|\n",
      "|  2|Cherry|  73|     85|     86|     88|       85|     91|\n",
      "|  4| Ethan|  68|     65|     86|     68|       95|     78|\n",
      "+---+------+----+-------+-------+-------+---------+-------+\n",
      "\n"
     ]
    }
   ],
   "source": [
    "result.show()"
   ]
  },
  {
   "cell_type": "code",
   "execution_count": 10,
   "metadata": {},
   "outputs": [
    {
     "data": {
      "text/plain": [
       "6"
      ]
     },
     "execution_count": 10,
     "metadata": {},
     "output_type": "execute_result"
    }
   ],
   "source": [
    "result = result.cache()\n",
    "result.count()"
   ]
  },
  {
   "cell_type": "code",
   "execution_count": 11,
   "metadata": {},
   "outputs": [
    {
     "name": "stdout",
     "output_type": "stream",
     "text": [
      "+-------+------------------+\n",
      "|summary|              math|\n",
      "+-------+------------------+\n",
      "|  count|                 6|\n",
      "|   mean|              81.0|\n",
      "| stddev|18.633303518163384|\n",
      "|    min|                54|\n",
      "|    max|                98|\n",
      "+-------+------------------+\n",
      "\n",
      "+-------+------------------+\n",
      "|summary|           english|\n",
      "+-------+------------------+\n",
      "|  count|                 6|\n",
      "|   mean| 80.83333333333333|\n",
      "| stddev|12.480651692386365|\n",
      "|    min|                65|\n",
      "|    max|                97|\n",
      "+-------+------------------+\n",
      "\n",
      "+-------+------------------+\n",
      "|summary|           chinese|\n",
      "+-------+------------------+\n",
      "|  count|                 6|\n",
      "|   mean| 82.66666666666667|\n",
      "| stddev|14.151560573543353|\n",
      "|    min|                57|\n",
      "|    max|                99|\n",
      "+-------+------------------+\n",
      "\n",
      "+-------+------------------+\n",
      "|summary|           physics|\n",
      "+-------+------------------+\n",
      "|  count|                 6|\n",
      "|   mean| 88.16666666666667|\n",
      "| stddev|10.778064142816497|\n",
      "|    min|                68|\n",
      "|    max|                96|\n",
      "+-------+------------------+\n",
      "\n",
      "+-------+------------------+\n",
      "|summary|         chemistry|\n",
      "+-------+------------------+\n",
      "|  count|                 6|\n",
      "|   mean| 80.16666666666667|\n",
      "| stddev|13.182058514005567|\n",
      "|    min|                67|\n",
      "|    max|                95|\n",
      "+-------+------------------+\n",
      "\n",
      "+-------+------------------+\n",
      "|summary|           history|\n",
      "+-------+------------------+\n",
      "|  count|                 6|\n",
      "|   mean| 79.66666666666667|\n",
      "| stddev|14.583095236151571|\n",
      "|    min|                57|\n",
      "|    max|                99|\n",
      "+-------+------------------+\n",
      "\n"
     ]
    }
   ],
   "source": [
    "for x in ['math', 'english', 'chinese', 'physics', 'chemistry', 'history']:\n",
    "    result.describe().select('summary', x).show()"
   ]
  },
  {
   "cell_type": "code",
   "execution_count": 12,
   "metadata": {},
   "outputs": [],
   "source": [
    "biology = spark.createDataFrame(\n",
    "    [(0, 89), (1, 87), (3, 88), (5, 95)],\n",
    "    [\"id\", \"biology\"])"
   ]
  },
  {
   "cell_type": "code",
   "execution_count": 13,
   "metadata": {},
   "outputs": [
    {
     "name": "stdout",
     "output_type": "stream",
     "text": [
      "+---+-----+----+-------+-------+-------+---------+-------+-------+\n",
      "| id| name|math|english|chinese|physics|chemistry|history|biology|\n",
      "+---+-----+----+-------+-------+-------+---------+-------+-------+\n",
      "|  0| Alex|  95|     90|     79|     86|       67|     73|     89|\n",
      "|  1|  Bob|  98|     80|     89|     95|       71|     80|     87|\n",
      "|  3|  Dan|  54|     68|     57|     96|       68|     57|     88|\n",
      "|  5|Flynn|  98|     97|     99|     96|       95|     99|     95|\n",
      "+---+-----+----+-------+-------+-------+---------+-------+-------+\n",
      "\n"
     ]
    }
   ],
   "source": [
    "result_with_biology = result.join(biology, 'id')\n",
    "result_with_biology.show()"
   ]
  },
  {
   "cell_type": "code",
   "execution_count": 14,
   "metadata": {},
   "outputs": [
    {
     "name": "stdout",
     "output_type": "stream",
     "text": [
      "+---+------+----+-------+-------+-------+---------+-------+-------+\n",
      "| id|  name|math|english|chinese|physics|chemistry|history|biology|\n",
      "+---+------+----+-------+-------+-------+---------+-------+-------+\n",
      "|  0|  Alex|  95|     90|     79|     86|       67|     73|     89|\n",
      "|  5| Flynn|  98|     97|     99|     96|       95|     99|     95|\n",
      "|  1|   Bob|  98|     80|     89|     95|       71|     80|     87|\n",
      "|  3|   Dan|  54|     68|     57|     96|       68|     57|     88|\n",
      "|  2|Cherry|  73|     85|     86|     88|       85|     91|   null|\n",
      "|  4| Ethan|  68|     65|     86|     68|       95|     78|   null|\n",
      "+---+------+----+-------+-------+-------+---------+-------+-------+\n",
      "\n"
     ]
    }
   ],
   "source": [
    "result_with_biology2 = result.join(biology, 'id', how='left')\n",
    "result_with_biology2.show()"
   ]
  },
  {
   "cell_type": "code",
   "execution_count": 15,
   "metadata": {},
   "outputs": [],
   "source": [
    "french = spark.createDataFrame(\n",
    "    [(0, 75), (2, 86), (5, 99)],\n",
    "    [\"id\", \"french\"])"
   ]
  },
  {
   "cell_type": "code",
   "execution_count": 16,
   "metadata": {},
   "outputs": [
    {
     "name": "stdout",
     "output_type": "stream",
     "text": [
      "+---+------+----+-------+-------+-------+---------+-------+-------+------+\n",
      "| id|  name|math|english|chinese|physics|chemistry|history|biology|french|\n",
      "+---+------+----+-------+-------+-------+---------+-------+-------+------+\n",
      "|  0|  Alex|  95|     90|     79|     86|       67|     73|     89|    75|\n",
      "|  5| Flynn|  98|     97|     99|     96|       95|     99|     95|    99|\n",
      "|  1|   Bob|  98|     80|     89|     95|       71|     80|     87|  null|\n",
      "|  3|   Dan|  54|     68|     57|     96|       68|     57|     88|  null|\n",
      "|  2|Cherry|  73|     85|     86|     88|       85|     91|   null|    86|\n",
      "|  4| Ethan|  68|     65|     86|     68|       95|     78|   null|  null|\n",
      "+---+------+----+-------+-------+-------+---------+-------+-------+------+\n",
      "\n"
     ]
    }
   ],
   "source": [
    "result3 = result_with_biology2.join(french, 'id', how='left')\n",
    "result3.show()"
   ]
  },
  {
   "cell_type": "code",
   "execution_count": 17,
   "metadata": {},
   "outputs": [
    {
     "name": "stdout",
     "output_type": "stream",
     "text": [
      "+---+------+----+-------+-------+-------+---------+-------+-------+------+\n",
      "| id|  name|math|english|chinese|physics|chemistry|history|biology|french|\n",
      "+---+------+----+-------+-------+-------+---------+-------+-------+------+\n",
      "|  0|  Alex|  95|     90|     79|     86|       67|     73|     89|    75|\n",
      "|  5| Flynn|  98|     97|     99|     96|       95|     99|     95|    99|\n",
      "|  1|   Bob|  98|     80|     89|     95|       71|     80|     87|     0|\n",
      "|  3|   Dan|  54|     68|     57|     96|       68|     57|     88|     0|\n",
      "|  2|Cherry|  73|     85|     86|     88|       85|     91|      0|    86|\n",
      "|  4| Ethan|  68|     65|     86|     68|       95|     78|      0|     0|\n",
      "+---+------+----+-------+-------+-------+---------+-------+-------+------+\n",
      "\n"
     ]
    }
   ],
   "source": [
    "result4 = result3.fillna(0)\n",
    "result4.show()"
   ]
  },
  {
   "cell_type": "code",
   "execution_count": 18,
   "metadata": {},
   "outputs": [],
   "source": [
    "result5 = result4.withColumn('average', (F.col('math') + \n",
    "                                         F.col('english') +\n",
    "                                         F.col('chinese') +\n",
    "                                         F.col('physics') +\n",
    "                                         F.col('chemistry') +\n",
    "                                         F.col('history') +\n",
    "                                         F.col('biology') +\n",
    "                                         F.col('french'))/8)"
   ]
  },
  {
   "cell_type": "code",
   "execution_count": 19,
   "metadata": {},
   "outputs": [
    {
     "name": "stdout",
     "output_type": "stream",
     "text": [
      "+---+------+----+-------+-------+-------+---------+-------+-------+------+-------+\n",
      "| id|  name|math|english|chinese|physics|chemistry|history|biology|french|average|\n",
      "+---+------+----+-------+-------+-------+---------+-------+-------+------+-------+\n",
      "|  0|  Alex|  95|     90|     79|     86|       67|     73|     89|    75|  81.75|\n",
      "|  5| Flynn|  98|     97|     99|     96|       95|     99|     95|    99|  97.25|\n",
      "|  1|   Bob|  98|     80|     89|     95|       71|     80|     87|     0|   75.0|\n",
      "|  3|   Dan|  54|     68|     57|     96|       68|     57|     88|     0|   61.0|\n",
      "|  2|Cherry|  73|     85|     86|     88|       85|     91|      0|    86|  74.25|\n",
      "|  4| Ethan|  68|     65|     86|     68|       95|     78|      0|     0|   57.5|\n",
      "+---+------+----+-------+-------+-------+---------+-------+-------+------+-------+\n",
      "\n"
     ]
    }
   ],
   "source": [
    "result5.show()"
   ]
  },
  {
   "cell_type": "code",
   "execution_count": 20,
   "metadata": {},
   "outputs": [
    {
     "name": "stdout",
     "output_type": "stream",
     "text": [
      "+---+------+----+-------+-------+-------+---------+-------+-------+------+-------+------+\n",
      "| id|  name|math|english|chinese|physics|chemistry|history|biology|french|average|rating|\n",
      "+---+------+----+-------+-------+-------+---------+-------+-------+------+-------+------+\n",
      "|  0|  Alex|  95|     90|     79|     86|       67|     73|     89|    75|  81.75|     B|\n",
      "|  5| Flynn|  98|     97|     99|     96|       95|     99|     95|    99|  97.25|     A|\n",
      "|  1|   Bob|  98|     80|     89|     95|       71|     80|     87|     0|   75.0|     C|\n",
      "|  3|   Dan|  54|     68|     57|     96|       68|     57|     88|     0|   61.0|     C|\n",
      "|  2|Cherry|  73|     85|     86|     88|       85|     91|      0|    86|  74.25|     C|\n",
      "|  4| Ethan|  68|     65|     86|     68|       95|     78|      0|     0|   57.5|     D|\n",
      "+---+------+----+-------+-------+-------+---------+-------+-------+------+-------+------+\n",
      "\n"
     ]
    }
   ],
   "source": [
    "result6 = result5.withColumn('rating', F.when(F.col('average') >= 90, F.lit('A')).otherwise(\n",
    "                                       F.when(F.col('average') >= 80, F.lit('B')).otherwise(\n",
    "                                       F.when(F.col('average') >= 60, F.lit('C')).otherwise(\n",
    "                                       F.lit('D')))))\n",
    "result6.show()"
   ]
  },
  {
   "cell_type": "code",
   "execution_count": 21,
   "metadata": {},
   "outputs": [
    {
     "name": "stdout",
     "output_type": "stream",
     "text": [
      "+------+-----+\n",
      "|rating|count|\n",
      "+------+-----+\n",
      "|     B|    1|\n",
      "|     D|    1|\n",
      "|     C|    3|\n",
      "|     A|    1|\n",
      "+------+-----+\n",
      "\n"
     ]
    }
   ],
   "source": [
    "result6.groupBy('rating').count().show()"
   ]
  },
  {
   "cell_type": "code",
   "execution_count": 22,
   "metadata": {},
   "outputs": [],
   "source": [
    "group_by_result = result6.groupBy('rating').count()"
   ]
  },
  {
   "cell_type": "code",
   "execution_count": 23,
   "metadata": {},
   "outputs": [
    {
     "data": {
      "text/plain": [
       "0.8333333333333334"
      ]
     },
     "execution_count": 23,
     "metadata": {},
     "output_type": "execute_result"
    }
   ],
   "source": [
    "pass_rate = 1 - group_by_result.filter('rating = \"D\"').count() / result6.count()\n",
    "pass_rate"
   ]
  },
  {
   "cell_type": "code",
   "execution_count": 24,
   "metadata": {},
   "outputs": [
    {
     "name": "stdout",
     "output_type": "stream",
     "text": [
      "pass rate = 83.33\n"
     ]
    }
   ],
   "source": [
    "print(\"pass rate = {0:.2f}\".format(pass_rate * 100))"
   ]
  },
  {
   "cell_type": "markdown",
   "metadata": {},
   "source": [
    "### Spark filters"
   ]
  },
  {
   "cell_type": "code",
   "execution_count": 25,
   "metadata": {},
   "outputs": [
    {
     "name": "stdout",
     "output_type": "stream",
     "text": [
      "+---+-----+----+-------+-------+-------+---------+-------+-------+------+-------+------+\n",
      "| id| name|math|english|chinese|physics|chemistry|history|biology|french|average|rating|\n",
      "+---+-----+----+-------+-------+-------+---------+-------+-------+------+-------+------+\n",
      "|  5|Flynn|  98|     97|     99|     96|       95|     99|     95|    99|  97.25|     A|\n",
      "+---+-----+----+-------+-------+-------+---------+-------+-------+------+-------+------+\n",
      "\n"
     ]
    }
   ],
   "source": [
    "result6.filter('rating = \"A\"').show()"
   ]
  },
  {
   "cell_type": "code",
   "execution_count": 26,
   "metadata": {},
   "outputs": [
    {
     "name": "stdout",
     "output_type": "stream",
     "text": [
      "+---+----+----+-------+-------+-------+---------+-------+-------+------+-------+------+\n",
      "| id|name|math|english|chinese|physics|chemistry|history|biology|french|average|rating|\n",
      "+---+----+----+-------+-------+-------+---------+-------+-------+------+-------+------+\n",
      "|  3| Dan|  54|     68|     57|     96|       68|     57|     88|     0|   61.0|     C|\n",
      "+---+----+----+-------+-------+-------+---------+-------+-------+------+-------+------+\n",
      "\n"
     ]
    }
   ],
   "source": [
    "result6.filter('math < 60').show()"
   ]
  },
  {
   "cell_type": "markdown",
   "metadata": {},
   "source": [
    "## Spark Joins"
   ]
  },
  {
   "cell_type": "markdown",
   "metadata": {},
   "source": [
    "![spark_joins](./pics/spark_joins.png)"
   ]
  },
  {
   "cell_type": "code",
   "execution_count": 27,
   "metadata": {},
   "outputs": [
    {
     "name": "stdout",
     "output_type": "stream",
     "text": [
      "+---+-------+\n",
      "| id|biology|\n",
      "+---+-------+\n",
      "|  0|     89|\n",
      "|  1|     87|\n",
      "|  3|     88|\n",
      "|  5|     95|\n",
      "+---+-------+\n",
      "\n"
     ]
    }
   ],
   "source": [
    "biology.show()"
   ]
  },
  {
   "cell_type": "code",
   "execution_count": 28,
   "metadata": {},
   "outputs": [
    {
     "name": "stdout",
     "output_type": "stream",
     "text": [
      "+---+------+\n",
      "| id|french|\n",
      "+---+------+\n",
      "|  0|    75|\n",
      "|  2|    86|\n",
      "|  5|    99|\n",
      "+---+------+\n",
      "\n"
     ]
    }
   ],
   "source": [
    "french.show()"
   ]
  },
  {
   "cell_type": "markdown",
   "metadata": {},
   "source": [
    "### inner"
   ]
  },
  {
   "cell_type": "code",
   "execution_count": 29,
   "metadata": {},
   "outputs": [
    {
     "name": "stdout",
     "output_type": "stream",
     "text": [
      "+---+-------+------+\n",
      "| id|biology|french|\n",
      "+---+-------+------+\n",
      "|  0|     89|    75|\n",
      "|  5|     95|    99|\n",
      "+---+-------+------+\n",
      "\n"
     ]
    }
   ],
   "source": [
    "biology.join(french, 'id', how='inner').show()"
   ]
  },
  {
   "cell_type": "markdown",
   "metadata": {},
   "source": [
    "### outer, full, fullouter, full_outer"
   ]
  },
  {
   "cell_type": "code",
   "execution_count": 30,
   "metadata": {},
   "outputs": [
    {
     "name": "stdout",
     "output_type": "stream",
     "text": [
      "+---+-------+------+\n",
      "| id|biology|french|\n",
      "+---+-------+------+\n",
      "|  0|     89|    75|\n",
      "|  5|     95|    99|\n",
      "|  1|     87|  null|\n",
      "|  3|     88|  null|\n",
      "|  2|   null|    86|\n",
      "+---+-------+------+\n",
      "\n"
     ]
    }
   ],
   "source": [
    "biology.join(french, 'id', how='outer').show()\n",
    "#biology.join(french, 'id', how='full').show()\n",
    "#biology.join(french, 'id', how='fullouter').show()\n",
    "#biology.join(french, 'id', how='full_outer').show()"
   ]
  },
  {
   "cell_type": "markdown",
   "metadata": {},
   "source": [
    "### left, leftouter, left_outer"
   ]
  },
  {
   "cell_type": "code",
   "execution_count": 31,
   "metadata": {},
   "outputs": [
    {
     "name": "stdout",
     "output_type": "stream",
     "text": [
      "+---+-------+------+\n",
      "| id|biology|french|\n",
      "+---+-------+------+\n",
      "|  0|     89|    75|\n",
      "|  5|     95|    99|\n",
      "|  1|     87|  null|\n",
      "|  3|     88|  null|\n",
      "+---+-------+------+\n",
      "\n"
     ]
    }
   ],
   "source": [
    "biology.join(french, 'id', how='left').show()\n",
    "#biology.join(french, 'id', how='leftouter').show()\n",
    "#biology.join(french, 'id', how='left_outer').show()"
   ]
  },
  {
   "cell_type": "markdown",
   "metadata": {},
   "source": [
    "### right, rightouter, right_outer"
   ]
  },
  {
   "cell_type": "code",
   "execution_count": 32,
   "metadata": {},
   "outputs": [
    {
     "name": "stdout",
     "output_type": "stream",
     "text": [
      "+---+-------+------+\n",
      "| id|biology|french|\n",
      "+---+-------+------+\n",
      "|  0|     89|    75|\n",
      "|  5|     95|    99|\n",
      "|  2|   null|    86|\n",
      "+---+-------+------+\n",
      "\n"
     ]
    }
   ],
   "source": [
    "biology.join(french, 'id', how='right').show()\n",
    "#biology.join(french, 'id', how='rightouter').show()\n",
    "#biology.join(french, 'id', how='right_outer').show()"
   ]
  },
  {
   "cell_type": "markdown",
   "metadata": {},
   "source": [
    "### leftanti, left_anti"
   ]
  },
  {
   "cell_type": "code",
   "execution_count": 33,
   "metadata": {},
   "outputs": [
    {
     "name": "stdout",
     "output_type": "stream",
     "text": [
      "+---+-------+\n",
      "| id|biology|\n",
      "+---+-------+\n",
      "|  1|     87|\n",
      "|  3|     88|\n",
      "+---+-------+\n",
      "\n"
     ]
    }
   ],
   "source": [
    "# in left table, not in right table\n",
    "biology.join(french, 'id', how='leftanti').show()\n",
    "#biology.join(french, 'id', how='left_anti').show()"
   ]
  },
  {
   "cell_type": "markdown",
   "metadata": {},
   "source": [
    "### leftsemi, left_semi"
   ]
  },
  {
   "cell_type": "code",
   "execution_count": 34,
   "metadata": {},
   "outputs": [
    {
     "name": "stdout",
     "output_type": "stream",
     "text": [
      "+---+-------+\n",
      "| id|biology|\n",
      "+---+-------+\n",
      "|  0|     89|\n",
      "|  5|     95|\n",
      "+---+-------+\n",
      "\n"
     ]
    }
   ],
   "source": [
    "# only get columns from the left table\n",
    "biology.join(french, 'id', how='leftsemi').show()\n",
    "#biology.join(french, 'id', how='left_semi').show()"
   ]
  },
  {
   "cell_type": "code",
   "execution_count": 35,
   "metadata": {},
   "outputs": [
    {
     "name": "stdout",
     "output_type": "stream",
     "text": [
      "+---+------+----+-------+-------+-------+---------+-------+-------+------+-------+------+\n",
      "| id|  name|math|english|chinese|physics|chemistry|history|biology|french|average|rating|\n",
      "+---+------+----+-------+-------+-------+---------+-------+-------+------+-------+------+\n",
      "|  0|  Alex|  95|     90|     79|     86|       67|     73|     89|    75|  81.75|     B|\n",
      "|  5| Flynn|  98|     97|     99|     96|       95|     99|     95|    99|  97.25|     A|\n",
      "|  1|   Bob|  98|     80|     89|     95|       71|     80|     87|     0|   75.0|     C|\n",
      "|  3|   Dan|  54|     68|     57|     96|       68|     57|     88|     0|   61.0|     C|\n",
      "|  2|Cherry|  73|     85|     86|     88|       85|     91|      0|    86|  74.25|     C|\n",
      "|  4| Ethan|  68|     65|     86|     68|       95|     78|      0|     0|   57.5|     D|\n",
      "+---+------+----+-------+-------+-------+---------+-------+-------+------+-------+------+\n",
      "\n"
     ]
    }
   ],
   "source": [
    "result6.show()"
   ]
  },
  {
   "cell_type": "code",
   "execution_count": 36,
   "metadata": {},
   "outputs": [],
   "source": [
    "result6.write.csv('./data/result6/', header=True, mode='overwrite')"
   ]
  },
  {
   "cell_type": "code",
   "execution_count": 37,
   "metadata": {},
   "outputs": [],
   "source": [
    "result6.coalesce(1).write.csv('./data/result6_coalesced/', header=True, mode='overwrite')"
   ]
  },
  {
   "cell_type": "code",
   "execution_count": 38,
   "metadata": {},
   "outputs": [
    {
     "name": "stdout",
     "output_type": "stream",
     "text": [
      "id,name,math,english,chinese,physics,chemistry,history,biology,french,average,rating\r\n",
      "0,Alex,95,90,79,86,67,73,89,75,81.75,B\r\n",
      "5,Flynn,98,97,99,96,95,99,95,99,97.25,A\r\n",
      "1,Bob,98,80,89,95,71,80,87,0,75.0,C\r\n",
      "3,Dan,54,68,57,96,68,57,88,0,61.0,C\r\n",
      "2,Cherry,73,85,86,88,85,91,0,86,74.25,C\r\n",
      "4,Ethan,68,65,86,68,95,78,0,0,57.5,D\r\n"
     ]
    }
   ],
   "source": [
    "!cat data/result6_coalesced/*.csv"
   ]
  },
  {
   "cell_type": "code",
   "execution_count": 39,
   "metadata": {},
   "outputs": [],
   "source": [
    "df = spark.read.csv('./data/result6_coalesced/', header=True, inferSchema=True)"
   ]
  },
  {
   "cell_type": "code",
   "execution_count": 40,
   "metadata": {},
   "outputs": [
    {
     "name": "stdout",
     "output_type": "stream",
     "text": [
      "+---+------+----+-------+-------+-------+---------+-------+-------+------+-------+------+\n",
      "| id|  name|math|english|chinese|physics|chemistry|history|biology|french|average|rating|\n",
      "+---+------+----+-------+-------+-------+---------+-------+-------+------+-------+------+\n",
      "|  0|  Alex|  95|     90|     79|     86|       67|     73|     89|    75|  81.75|     B|\n",
      "|  5| Flynn|  98|     97|     99|     96|       95|     99|     95|    99|  97.25|     A|\n",
      "|  1|   Bob|  98|     80|     89|     95|       71|     80|     87|     0|   75.0|     C|\n",
      "|  3|   Dan|  54|     68|     57|     96|       68|     57|     88|     0|   61.0|     C|\n",
      "|  2|Cherry|  73|     85|     86|     88|       85|     91|      0|    86|  74.25|     C|\n",
      "|  4| Ethan|  68|     65|     86|     68|       95|     78|      0|     0|   57.5|     D|\n",
      "+---+------+----+-------+-------+-------+---------+-------+-------+------+-------+------+\n",
      "\n"
     ]
    }
   ],
   "source": [
    "df.show()"
   ]
  },
  {
   "cell_type": "code",
   "execution_count": 41,
   "metadata": {},
   "outputs": [],
   "source": [
    "df.createOrReplaceTempView(\"result\")"
   ]
  },
  {
   "cell_type": "code",
   "execution_count": 42,
   "metadata": {},
   "outputs": [
    {
     "name": "stdout",
     "output_type": "stream",
     "text": [
      "+---+------+----+-------+-------+-------+---------+-------+-------+------+-------+------+\n",
      "| id|  name|math|english|chinese|physics|chemistry|history|biology|french|average|rating|\n",
      "+---+------+----+-------+-------+-------+---------+-------+-------+------+-------+------+\n",
      "|  0|  Alex|  95|     90|     79|     86|       67|     73|     89|    75|  81.75|     B|\n",
      "|  5| Flynn|  98|     97|     99|     96|       95|     99|     95|    99|  97.25|     A|\n",
      "|  1|   Bob|  98|     80|     89|     95|       71|     80|     87|     0|   75.0|     C|\n",
      "|  3|   Dan|  54|     68|     57|     96|       68|     57|     88|     0|   61.0|     C|\n",
      "|  2|Cherry|  73|     85|     86|     88|       85|     91|      0|    86|  74.25|     C|\n",
      "|  4| Ethan|  68|     65|     86|     68|       95|     78|      0|     0|   57.5|     D|\n",
      "+---+------+----+-------+-------+-------+---------+-------+-------+------+-------+------+\n",
      "\n"
     ]
    }
   ],
   "source": [
    "sqlDF = spark.sql(\"SELECT * FROM result\")\n",
    "sqlDF.show()"
   ]
  },
  {
   "cell_type": "code",
   "execution_count": 44,
   "metadata": {},
   "outputs": [
    {
     "name": "stdout",
     "output_type": "stream",
     "text": [
      "+---+------+----+\n",
      "| id|  name|math|\n",
      "+---+------+----+\n",
      "|  0|  Alex|  95|\n",
      "|  5| Flynn|  98|\n",
      "|  1|   Bob|  98|\n",
      "|  3|   Dan|  54|\n",
      "|  2|Cherry|  73|\n",
      "|  4| Ethan|  68|\n",
      "+---+------+----+\n",
      "\n"
     ]
    }
   ],
   "source": [
    "spark.sql(\"SELECT id, name, math FROM result\").show()"
   ]
  },
  {
   "cell_type": "code",
   "execution_count": 45,
   "metadata": {},
   "outputs": [
    {
     "name": "stdout",
     "output_type": "stream",
     "text": [
      "+---+----+----+-------+\n",
      "| id|name|math|average|\n",
      "+---+----+----+-------+\n",
      "|  0|Alex|  95|  81.75|\n",
      "+---+----+----+-------+\n",
      "\n"
     ]
    }
   ],
   "source": [
    "spark.sql(\"SELECT id, name, math, average FROM result where name = 'Alex'\").show()"
   ]
  },
  {
   "cell_type": "code",
   "execution_count": null,
   "metadata": {},
   "outputs": [],
   "source": []
  }
 ],
 "metadata": {
  "kernelspec": {
   "display_name": "Python 3",
   "language": "python",
   "name": "python3"
  },
  "language_info": {
   "codemirror_mode": {
    "name": "ipython",
    "version": 3
   },
   "file_extension": ".py",
   "mimetype": "text/x-python",
   "name": "python",
   "nbconvert_exporter": "python",
   "pygments_lexer": "ipython3",
   "version": "3.7.3"
  }
 },
 "nbformat": 4,
 "nbformat_minor": 2
}
